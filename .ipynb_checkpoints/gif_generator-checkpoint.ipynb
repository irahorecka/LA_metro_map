{
 "cells": [
  {
   "cell_type": "code",
   "execution_count": 15,
   "metadata": {},
   "outputs": [
    {
     "name": "stdout",
     "output_type": "stream",
     "text": [
      "/Users/irahorecka/Desktop/Harddrive_Desktop/Python/LA_metro_map\n"
     ]
    }
   ],
   "source": [
    "import os\n",
    "import re\n",
    "import imageio\n",
    "\n",
    "try:\n",
    "    BASE_DIR = os.path.abspath('')\n",
    "except NameError:\n",
    "    print(\"Warning, directories can change downstream.\")\n",
    "    BASE_DIR = os.getcwd()\n",
    "\n",
    "print(BASE_DIR)"
   ]
  },
  {
   "cell_type": "code",
   "execution_count": 30,
   "metadata": {},
   "outputs": [],
   "source": [
    "def printProgressBar (iteration, total, prefix = '', suffix = '', decimals = 0, length = 100, fill = '█'):\n",
    "    \"\"\"\n",
    "    Call in a loop to create terminal progress bar\n",
    "    @params:\n",
    "        iteration   - Required  : current iteration (Int)\n",
    "        total       - Required  : total iterations (Int)\n",
    "        prefix      - Optional  : prefix string (Str)\n",
    "        suffix      - Optional  : suffix string (Str)\n",
    "        decimals    - Optional  : positive number of decimals in percent complete (Int)\n",
    "        length      - Optional  : character length of bar (Int)\n",
    "        fill        - Optional  : bar fill character (Str)\n",
    "    \"\"\"\n",
    "    percent = (\"{0:.\" + str(decimals) + \"f}\").format(100 * (iteration / float(total)))\n",
    "    filledLength = int(length * iteration // total)\n",
    "    bar = fill * filledLength + '-' * (length - filledLength)\n",
    "    print('\\r%s |%s| %s%% %s' % (prefix, bar, percent, suffix), end = '\\r')\n",
    "    # Print New Line on Complete\n",
    "    if iteration == total: \n",
    "        print()"
   ]
  },
  {
   "cell_type": "code",
   "execution_count": 36,
   "metadata": {},
   "outputs": [],
   "source": [
    "def main():\n",
    "    os.chdir(\"{}/map_figs\".format(BASE_DIR))\n",
    "\n",
    "    gif_name = input(\"Provide a name for your gif: \")\n",
    "    if gif_name[-4:] != '.gif':\n",
    "        gif_name += '.gif'\n",
    "    \n",
    "    filenames = [png for png in os.listdir() if png[-4:] == \".png\"]\n",
    "    filenames.sort(key=natural_keys)\n",
    "    \n",
    "    GIF_DIR = \"{}/gif_files\".format(BASE_DIR)\n",
    "    with imageio.get_writer(\"{_dir}/{_file}\".format(_dir=GIF_DIR, _file=gif_name), mode='I', duration=0.02) as writer:\n",
    "        for index, file in enumerate(filenames):\n",
    "            image = imageio.imread(file)\n",
    "            writer.append_data(image)\n",
    "            printProgressBar(index+1, len(filenames), prefix = 'Progress:', suffix = 'Complete', length = 50)\n",
    "    \n",
    "    os.chdir(BASE_DIR)\n",
    "    print(\"\\n'{gif}' successfully built.\".format(gif=gif_name))\n",
    "\n",
    "def natural_keys(text):\n",
    "    '''\n",
    "    alist.sort(key=natural_keys) sorts in human order\n",
    "    http://nedbatchelder.com/blog/200712/human_sorting.html\n",
    "    '''\n",
    "    return [atoi(c) for c in re.split(r'(\\d+)', text)]\n",
    "\n",
    "def atoi(text):\n",
    "    return int(text) if text.isdigit() else text\n"
   ]
  },
  {
   "cell_type": "code",
   "execution_count": 37,
   "metadata": {},
   "outputs": [
    {
     "name": "stdin",
     "output_type": "stream",
     "text": [
      "Provide a name for your gif:  test_gif1.gif\n"
     ]
    },
    {
     "name": "stdout",
     "output_type": "stream",
     "text": [
      "Progress: |██████████████████████████████████████████████████| 100% Complete\n",
      "\n",
      "'test_gif1.gif' successfully built.\n"
     ]
    }
   ],
   "source": [
    "main()"
   ]
  },
  {
   "cell_type": "code",
   "execution_count": null,
   "metadata": {},
   "outputs": [],
   "source": []
  }
 ],
 "metadata": {
  "kernelspec": {
   "display_name": "Python 3",
   "language": "python",
   "name": "python3"
  },
  "language_info": {
   "codemirror_mode": {
    "name": "ipython",
    "version": 3
   },
   "file_extension": ".py",
   "mimetype": "text/x-python",
   "name": "python",
   "nbconvert_exporter": "python",
   "pygments_lexer": "ipython3",
   "version": "3.7.3"
  }
 },
 "nbformat": 4,
 "nbformat_minor": 4
}
