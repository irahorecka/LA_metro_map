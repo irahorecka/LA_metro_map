{
 "cells": [
  {
   "cell_type": "code",
   "execution_count": 1,
   "metadata": {},
   "outputs": [],
   "source": [
    "import datetime\n",
    "import math\n",
    "import os\n",
    "import time\n",
    "import pandas as pd\n",
    "from la_metro import LAMetro\n",
    "BASE_DIR = os.path.abspath('')\n"
   ]
  },
  {
   "cell_type": "code",
   "execution_count": 2,
   "metadata": {},
   "outputs": [],
   "source": [
    "\"\"\"\n",
    "A function to convert standard latitude\n",
    "and longitude coordinates to a mercator\n",
    "coordinate system\n",
    "\"\"\"\n",
    "def mercator(lat, lon):\n",
    "    r_major = 6378137.000\n",
    "    merc_lon = r_major * math.radians(lon)\n",
    "    try:\n",
    "        scale = merc_lon/lon\n",
    "    except ZeroDivisionError:\n",
    "        return None\n",
    "    merc_lat = 180.0/math.pi * math.log(math.tan(math.pi/4.0 + lat * (math.pi/180.0)/2.0)) * scale\n",
    "\n",
    "    return (merc_lon, merc_lat)\n"
   ]
  },
  {
   "cell_type": "code",
   "execution_count": 3,
   "metadata": {},
   "outputs": [
    {
     "name": "stderr",
     "output_type": "stream",
     "text": [
      "BokehDeprecationWarning: CARTODBPOSITRON was deprecated in Bokeh 1.1.0 and will be removed, use get_provider(Vendors.CARTODBPOSITRON) instead.\n"
     ]
    }
   ],
   "source": [
    "from bokeh.plotting import figure, show, output_notebook\n",
    "from bokeh.models.annotations import Title\n",
    "from bokeh.tile_providers import CARTODBPOSITRON\n",
    "from bokeh.io import export_png\n",
    "\n",
    "\"\"\"\n",
    "A function to plot mercator coordinates over\n",
    "Los Angeles map. Alter point alpha and color\n",
    "to your desire.\n",
    "\"\"\"\n",
    "def plot_bokeh(x_list, y_list, count):\n",
    "    # Set map boundaries (mercator) and axis type\n",
    "    p = figure(x_range=(-13220703.47, -13124567.96),\n",
    "               y_range=(3985860.84, 4082774.46),\n",
    "               x_axis_type=\"mercator\", y_axis_type=\"mercator\")\n",
    "    \n",
    "    # Tile Source for CartoDB Tile Service\n",
    "    p.add_tile(CARTODBPOSITRON)\n",
    "    # Set styling for Metro bus coordinate\n",
    "    p.circle(x=y_list,\n",
    "             y=x_list,\n",
    "             color='purple',\n",
    "             fill_alpha=0.1)\n",
    "    \n",
    "    # Set chart title - date + time\n",
    "    title = Title()\n",
    "    title.text = f\"LA Metro Buses - {datetime.datetime.now().strftime('%m/%d/%Y  %H:%M')}\"\n",
    "    p.title = title\n",
    "    \n",
    "    # For displaying map in notebook - comment out to avoid cluttering\n",
    "    # output_notebook()\n",
    "    # show(p)\n",
    "    \n",
    "    # Export as .png\n",
    "    export_png(p, filename=\"plot{}.png\".format(count))\n",
    "    "
   ]
  },
  {
   "cell_type": "code",
   "execution_count": 4,
   "metadata": {},
   "outputs": [],
   "source": [
    "\"\"\"\n",
    "Find lat and lon of every bus.\n",
    "Pass in an instance of LAMetro.\n",
    "\"\"\"\n",
    "def find_geotag(init_all_bus):\n",
    "    lat_list = []\n",
    "    lon_list = []\n",
    "    # Gather lat, lon of every bus and convert\n",
    "    # to mercator coord\n",
    "    for bus in init_all_bus:\n",
    "        tot_list = mercator(bus.y, bus.x)\n",
    "        if not tot_list:\n",
    "            continue\n",
    "        lat_list.append(tot_list[1])\n",
    "        lon_list.append(tot_list[0])\n",
    "        \n",
    "    return lat_list, lon_list\n",
    "\n",
    "\n",
    "def time_sleep(t0, t1):\n",
    "    # Induce 10 second wait time\n",
    "    time_difference = 10 - (t1 - t0)\n",
    "    if time_difference <= 0:\n",
    "        time.sleep(0)\n",
    "    else:\n",
    "        time.sleep(time_difference)\n"
   ]
  },
  {
   "cell_type": "code",
   "execution_count": 7,
   "metadata": {},
   "outputs": [],
   "source": [
    "# Make client instance\n",
    "client = LAMetro()\n",
    "\n",
    "\"\"\"\n",
    "Continually export bus coordinate images\n",
    "every 10 seconds to ./map_figs\n",
    "\"\"\"\n",
    "def main():\n",
    "    os.chdir(\"{}/map_figs\".format(BASE_DIR))\n",
    "    img_count = 0\n",
    "    try:\n",
    "        while True:\n",
    "            t0 = time.time()\n",
    "\n",
    "            # Fetch all LA Metro bus information\n",
    "            try:\n",
    "                all_bus = client.bus.vehicles.all()\n",
    "            except TypeError:\n",
    "                continue\n",
    "            \n",
    "            lat, lon = find_geotag(all_bus)\n",
    "            plot_bokeh(lat, lon, img_count)\n",
    "            \n",
    "            img_count += 1\n",
    "            t1 = time.time()\n",
    "            time_sleep(t0, t1)\n",
    "    \n",
    "    # Handle abort or connection error\n",
    "    except KeyboardInterrupt:\n",
    "        print(\"Exiting protocol...\")\n",
    "    except Exception as error:\n",
    "        print(\"{e}.\\n\\nPlease restart kernel.\".format(e=error))\n",
    "    finally:\n",
    "        os.chdir(BASE_DIR)\n"
   ]
  },
  {
   "cell_type": "code",
   "execution_count": 6,
   "metadata": {},
   "outputs": [
    {
     "name": "stdout",
     "output_type": "stream",
     "text": [
      "('Connection aborted.', ConnectionResetError(54, 'Connection reset by peer')).\n",
      "\n",
      "Please restart kernel.\n"
     ]
    }
   ],
   "source": [
    "main()"
   ]
  },
  {
   "cell_type": "code",
   "execution_count": 11,
   "metadata": {},
   "outputs": [],
   "source": []
  }
 ],
 "metadata": {
  "kernelspec": {
   "display_name": "Python [conda env:anaconda3]",
   "language": "python",
   "name": "conda-env-anaconda3-py"
  },
  "language_info": {
   "codemirror_mode": {
    "name": "ipython",
    "version": 3
   },
   "file_extension": ".py",
   "mimetype": "text/x-python",
   "name": "python",
   "nbconvert_exporter": "python",
   "pygments_lexer": "ipython3",
   "version": "3.7.3"
  }
 },
 "nbformat": 4,
 "nbformat_minor": 4
}
